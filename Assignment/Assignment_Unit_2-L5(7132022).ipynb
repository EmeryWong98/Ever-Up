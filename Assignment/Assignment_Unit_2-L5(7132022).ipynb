{
  "nbformat": 4,
  "nbformat_minor": 0,
  "metadata": {
    "colab": {
      "name": "Assignment Unit 2-L5(7/13/2022).ipynb",
      "provenance": [],
      "collapsed_sections": [],
      "authorship_tag": "ABX9TyO7WYh8+s56ddzyTsau9+Qs",
      "include_colab_link": true
    },
    "kernelspec": {
      "name": "python3",
      "display_name": "Python 3"
    },
    "language_info": {
      "name": "python"
    }
  },
  "cells": [
    {
      "cell_type": "markdown",
      "metadata": {
        "id": "view-in-github",
        "colab_type": "text"
      },
      "source": [
        "<a href=\"https://colab.research.google.com/github/EmeryWong98/Ever-Up/blob/main/Assignment_Unit_2-L5(7132022).ipynb\" target=\"_parent\"><img src=\"https://colab.research.google.com/assets/colab-badge.svg\" alt=\"Open In Colab\"/></a>"
      ]
    },
    {
      "cell_type": "markdown",
      "source": [
        "# **Assignment Unit 2-L5(7/13/2022)**"
      ],
      "metadata": {
        "id": "b3IMhqZo-ci4"
      }
    },
    {
      "cell_type": "code",
      "source": [
        "#Q1 Make a list of 5 or more usernames, including an admin account. Imagine you are writing code\n",
        "#that will welcome people to your application on login. Loop through the list and print your greeting.\n",
        "#a. If the admin account logs in, give them a special greeting. They’re the admin, after all!\n",
        "#b. Other users can get the generic greeting\n",
        "user_names = ['shaquille.oatmeal', 'hanging_with_my_gnomies', 'hoosier-daddy', 'fast_and_the_curious', 'BadKarma', 'cute.as.ducks', 'averagestudent']\n",
        "admin_account = 'BadKarma'\n",
        "for i in user_names:\n",
        "  if i == admin_account:\n",
        "    print(\"They're the admin, after all!\")\n",
        "  else: print(\"Welcome!\")"
      ],
      "metadata": {
        "colab": {
          "base_uri": "https://localhost:8080/"
        },
        "id": "ZHPlNaXp-wDL",
        "outputId": "fb61ff05-c721-4a5e-fc06-3581d4e27e3c"
      },
      "execution_count": null,
      "outputs": [
        {
          "output_type": "stream",
          "name": "stdout",
          "text": [
            "Welcome!\n",
            "Welcome!\n",
            "Welcome!\n",
            "Welcome!\n",
            "They're the admin, after all!\n",
            "Welcome!\n",
            "Welcome!\n"
          ]
        }
      ]
    },
    {
      "cell_type": "code",
      "source": [
        "#Q2 Store numbers 1-10 in a list\n",
        "#a. Loop through the list\n",
        "#b. Use an if-elif-else chain inside your loop to print the ordinal ending for each number – for example – 1 st , 2 nd , 3 rd … etc.\n",
        "numbers = [1,2,3,4,5,6,7,8,9,10]\n",
        "for i in numbers:\n",
        "  if i == 1:\n",
        "    print(str(i)+'st')\n",
        "  elif i == 2:\n",
        "    print(str(i)+'nd')\n",
        "  elif i == 3:\n",
        "    print(str(i)+'rd')\n",
        "  else: print(str(i)+'th')"
      ],
      "metadata": {
        "colab": {
          "base_uri": "https://localhost:8080/"
        },
        "id": "RUBtHinXHgxf",
        "outputId": "8ffd5e7f-c21b-41aa-8962-6d16f9feb523"
      },
      "execution_count": null,
      "outputs": [
        {
          "output_type": "stream",
          "name": "stdout",
          "text": [
            "1st\n",
            "2nd\n",
            "3rd\n",
            "4th\n",
            "5th\n",
            "6th\n",
            "7th\n",
            "8th\n",
            "9th\n",
            "10th\n"
          ]
        }
      ]
    }
  ]
}
