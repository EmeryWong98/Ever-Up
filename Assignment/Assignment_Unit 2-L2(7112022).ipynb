{
  "nbformat": 4,
  "nbformat_minor": 0,
  "metadata": {
    "colab": {
      "name": "Untitled0.ipynb",
      "provenance": [],
      "collapsed_sections": [],
      "toc_visible": true
    },
    "kernelspec": {
      "name": "python3",
      "display_name": "Python 3"
    },
    "language_info": {
      "name": "python"
    }
  },
  "cells": [
    {
      "cell_type": "markdown",
      "source": [
        "#**Assignment Unit 2-L2(7/11/2022)**"
      ],
      "metadata": {
        "id": "6RTnhWWJsWEh"
      }
    },
    {
      "cell_type": "code",
      "source": [
        "#Q1 What is Python and why is it useful?\n",
        "answer_1 = \"Python is a general-purpose high-level programming language which is invented by Guido Van Rossum \\nin the Netherlands in the late 1980s. Python is a free, open-source, \\ncompatible with General Public License(GPL) which means everybody can use it without permission. It is a interpreted language \\ncompared with compiled language like C++.\"\n",
        "answer_2 = \"Python can work on very, very large datasets, compare with Perl and JavaScript \\nPython is a strongly typed language. Python has a large and comprehensive standard library compared with C++ and Java. \\nAnd Python is widely used, especially in data science community\"\n",
        "print(\"What is Python?\")\n",
        "print(answer_1)\n",
        "print(\"Why is it useful?\")\n",
        "print(answer_2)"
      ],
      "metadata": {
        "colab": {
          "base_uri": "https://localhost:8080/"
        },
        "id": "29yvvNonsiIz",
        "outputId": "2c757e0a-1b65-4198-90e5-9b372c262d33"
      },
      "execution_count": 1,
      "outputs": [
        {
          "output_type": "stream",
          "name": "stdout",
          "text": [
            "What is Python?\n",
            "Python is a general-purpose high-level programming language which is invented by Guido Van Rossum \n",
            "in the Netherlands in the late 1980s. Python is a free, open-source, \n",
            "compatible with General Public License(GPL) which means everybody can use it without permission. It is a interpreted language \n",
            "compared with compiled language like C++.\n",
            "Why is it useful?\n",
            "Python can work on very, very large datasets, compare with Perl and JavaScript \n",
            "Python is a strongly typed language. Python has a large and comprehensive standard library compared with C++ and Java. \n",
            "And Python is widely used, especially in data science community\n"
          ]
        }
      ]
    },
    {
      "cell_type": "code",
      "source": [
        "#Q2 Are the following variable names allowed in python?\n",
        "print(\"a. 1_message\")\n",
        "print(\"No, variable names cannot start with numbers\")\n",
        "print(\"\")\n",
        "print(\"b. Greeting_message\")\n",
        "print(\"Yes\")\n",
        "print(\"\")\n",
        "print(\"c. Message_1\")\n",
        "print(\"Yes\")\n",
        "print(\"\")\n",
        "print(\"d. First name\")\n",
        "print(\"No, spaces are not allowed in variable names\")\n",
        "print(\"\")\n",
        "print(\"e. Full_name\")\n",
        "print(\"Yes\")"
      ],
      "metadata": {
        "id": "-A-wLZhjsssN",
        "colab": {
          "base_uri": "https://localhost:8080/"
        },
        "outputId": "3685f637-8718-400f-e12a-9d87177c38e0"
      },
      "execution_count": 2,
      "outputs": [
        {
          "output_type": "stream",
          "name": "stdout",
          "text": [
            "a. 1_message\n",
            "No, variable names cannot start with numbers\n",
            "\n",
            "b. Greeting_message\n",
            "Yes\n",
            "\n",
            "c. Message_1\n",
            "Yes\n",
            "\n",
            "d. First name\n",
            "No, spaces are not allowed in variable names\n",
            "\n",
            "e. Full_name\n",
            "Yes\n"
          ]
        }
      ]
    },
    {
      "cell_type": "code",
      "source": [
        "#Q3 Create a variable that holds the string \"hello there!\"\n",
        "string_1 = \"hello there!\"\n",
        "string_1"
      ],
      "metadata": {
        "colab": {
          "base_uri": "https://localhost:8080/",
          "height": 35
        },
        "id": "QbAJPI4Pbz5M",
        "outputId": "1f58593f-d613-4fb4-8c70-fc034de36647"
      },
      "execution_count": 3,
      "outputs": [
        {
          "output_type": "execute_result",
          "data": {
            "text/plain": [
              "'hello there!'"
            ],
            "application/vnd.google.colaboratory.intrinsic+json": {
              "type": "string"
            }
          },
          "metadata": {},
          "execution_count": 3
        }
      ]
    },
    {
      "cell_type": "code",
      "source": [
        "#Q4 Create a variable for first name, last name and an email extension. Concatenating all three together to form an email address. For example: firstnamelastname@gmail.com\n",
        "string_2 = \"Chris\"\n",
        "string_3 = \"Evans\"\n",
        "string_4 = \"@gmail.com\"\n",
        "print(string_2 + string_3 + string_4)"
      ],
      "metadata": {
        "colab": {
          "base_uri": "https://localhost:8080/"
        },
        "id": "d07ToI-ccO7X",
        "outputId": "297e5e32-f5dc-41c9-ac71-3b8b80806967"
      },
      "execution_count": 4,
      "outputs": [
        {
          "output_type": "stream",
          "name": "stdout",
          "text": [
            "ChrisEvans@gmail.com\n"
          ]
        }
      ]
    },
    {
      "cell_type": "code",
      "source": [
        "#Q5 Store someone you know name in a variable called name. Print their name in lower and uppercase using a method.\n",
        "name = \"Chris Evans\"\n",
        "print(name.upper())\n",
        "print(name.lower())"
      ],
      "metadata": {
        "colab": {
          "base_uri": "https://localhost:8080/"
        },
        "id": "aIL930Juebw7",
        "outputId": "1782a1eb-3bf6-4e6f-dba2-126b15d10efd"
      },
      "execution_count": 5,
      "outputs": [
        {
          "output_type": "stream",
          "name": "stdout",
          "text": [
            "CHRIS EVANS\n",
            "chris evans\n"
          ]
        }
      ]
    },
    {
      "cell_type": "code",
      "source": [
        "#Q6 Using a variable, ask your friend if they want to hang out on the 15 th of the month. For example,\n",
        "#\"Do you want to hang out on the 15 th of this month?\" You should have to convert the number\n",
        "#to a string.\n",
        "string_5 = \"Do you want to hang out on the \"\n",
        "string_6 = 15\n",
        "string_7 = \"th of this month?\"\n",
        "print(string_5 + str(string_6) + string_7)"
      ],
      "metadata": {
        "colab": {
          "base_uri": "https://localhost:8080/"
        },
        "id": "5-CQsYFEe1gQ",
        "outputId": "0c311155-c993-417b-e28d-f70379091fc2"
      },
      "execution_count": 6,
      "outputs": [
        {
          "output_type": "stream",
          "name": "stdout",
          "text": [
            "Do you want to hang out on the 15th of this month?\n"
          ]
        }
      ]
    }
  ]
}