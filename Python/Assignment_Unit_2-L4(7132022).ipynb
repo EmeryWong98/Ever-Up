{
  "nbformat": 4,
  "nbformat_minor": 0,
  "metadata": {
    "colab": {
      "name": "Assignment Unit 2-L4(7/13/2022).ipynb",
      "provenance": [],
      "collapsed_sections": [],
      "authorship_tag": "ABX9TyMvCZc6SiH4ICDbSeNSwi2K",
      "include_colab_link": true
    },
    "kernelspec": {
      "name": "python3",
      "display_name": "Python 3"
    },
    "language_info": {
      "name": "python"
    }
  },
  "cells": [
    {
      "cell_type": "markdown",
      "metadata": {
        "id": "view-in-github",
        "colab_type": "text"
      },
      "source": [
        "<a href=\"https://colab.research.google.com/github/EmeryWong98/Ever-Up/blob/main/Assignment_Unit_2-L4(7132022).ipynb\" target=\"_parent\"><img src=\"https://colab.research.google.com/assets/colab-badge.svg\" alt=\"Open In Colab\"/></a>"
      ]
    },
    {
      "cell_type": "markdown",
      "source": [
        "# **Assignment Unit 2-L4(7/13/2022)**"
      ],
      "metadata": {
        "id": "2X9UTzJ2GQEl"
      }
    },
    {
      "cell_type": "code",
      "source": [
        "#Q1 Create a list that holds 5 data variables.\n",
        "male_movie_stars = ['Chris Pratt', 'Chris Evans', 'Chris Hemsworth', 'Benedict Cumberbatch', 'Michael Fassbender']"
      ],
      "metadata": {
        "id": "3ToW6hiKGVF0"
      },
      "execution_count": null,
      "outputs": []
    },
    {
      "cell_type": "code",
      "source": [
        "#Q2 Print out those variables by using a for loop.\n",
        "for i in male_movie_stars:\n",
        "  print(i)"
      ],
      "metadata": {
        "colab": {
          "base_uri": "https://localhost:8080/"
        },
        "id": "WBmGN-nHHSBI",
        "outputId": "3de5c103-6614-4af9-d0cb-c7bdd4e72935"
      },
      "execution_count": null,
      "outputs": [
        {
          "output_type": "stream",
          "name": "stdout",
          "text": [
            "Chris Pratt\n",
            "Chris Evans\n",
            "Chris Hemsworth\n",
            "Benedict Cumberbatch\n",
            "Michael Fassbender\n"
          ]
        }
      ]
    },
    {
      "cell_type": "code",
      "source": [
        "#Q3 Modify your for loop to add a message to your for loop.\n",
        "for i in male_movie_stars:\n",
        "  print(i + 'is the best male movie star over the world!!!')"
      ],
      "metadata": {
        "colab": {
          "base_uri": "https://localhost:8080/"
        },
        "id": "Iew79vM9HbVw",
        "outputId": "eafa06a3-7ba7-4697-9aca-989f3d691755"
      },
      "execution_count": null,
      "outputs": [
        {
          "output_type": "stream",
          "name": "stdout",
          "text": [
            "Chris Prattis the best male movie star over the world!!!\n",
            "Chris Evansis the best male movie star over the world!!!\n",
            "Chris Hemsworthis the best male movie star over the world!!!\n",
            "Benedict Cumberbatchis the best male movie star over the world!!!\n",
            "Michael Fassbenderis the best male movie star over the world!!!\n"
          ]
        }
      ]
    },
    {
      "cell_type": "code",
      "source": [
        "#Q4 Use a for loop to print even numbers from 1-20.\n",
        "for i in range(0,21,2):\n",
        "  print(i)"
      ],
      "metadata": {
        "colab": {
          "base_uri": "https://localhost:8080/"
        },
        "id": "CBntHwRwH5mV",
        "outputId": "7df8ba16-f9b4-42de-e5f1-f849c37b62e4"
      },
      "execution_count": null,
      "outputs": [
        {
          "output_type": "stream",
          "name": "stdout",
          "text": [
            "0\n",
            "2\n",
            "4\n",
            "6\n",
            "8\n",
            "10\n",
            "12\n",
            "14\n",
            "16\n",
            "18\n",
            "20\n"
          ]
        }
      ]
    },
    {
      "cell_type": "code",
      "source": [
        "#Q5 Sort your list in alphabetic order.\n",
        "male_movie_stars.sort()\n",
        "print(male_movie_stars)"
      ],
      "metadata": {
        "colab": {
          "base_uri": "https://localhost:8080/"
        },
        "id": "h_4JPfPvIpg8",
        "outputId": "446f3071-6736-4dab-aa26-a341d6a043a1"
      },
      "execution_count": null,
      "outputs": [
        {
          "output_type": "stream",
          "name": "stdout",
          "text": [
            "['Benedict Cumberbatch', 'Chris Evans', 'Chris Hemsworth', 'Chris Pratt', 'Michael Fassbender']\n"
          ]
        }
      ]
    },
    {
      "cell_type": "code",
      "source": [
        "#Q6 Print out the first three elements of your list.\n",
        "for i in range(3):\n",
        "  print(male_movie_stars[i])"
      ],
      "metadata": {
        "colab": {
          "base_uri": "https://localhost:8080/"
        },
        "id": "F7PL7C-sJMN2",
        "outputId": "de6a1099-1296-4b0e-b2d2-4c1a35b2a375"
      },
      "execution_count": null,
      "outputs": [
        {
          "output_type": "stream",
          "name": "stdout",
          "text": [
            "Benedict Cumberbatch\n",
            "Chris Evans\n",
            "Chris Hemsworth\n"
          ]
        }
      ]
    },
    {
      "cell_type": "code",
      "source": [
        "#Q7 Create a loop to print the last 2 elements of your list.\n",
        "for i in male_movie_stars[-2:]:\n",
        "  print(i)"
      ],
      "metadata": {
        "colab": {
          "base_uri": "https://localhost:8080/"
        },
        "id": "uqLbzLaCJMQH",
        "outputId": "cdd2779d-bbeb-4056-8717-9e71d744feac"
      },
      "execution_count": null,
      "outputs": [
        {
          "output_type": "stream",
          "name": "stdout",
          "text": [
            "Chris Pratt\n",
            "Michael Fassbender\n"
          ]
        }
      ]
    }
  ]
}
