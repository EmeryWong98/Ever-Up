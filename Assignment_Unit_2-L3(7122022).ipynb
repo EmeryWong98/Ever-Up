{
  "nbformat": 4,
  "nbformat_minor": 0,
  "metadata": {
    "colab": {
      "name": "Assignment Unit 2-L3(7/12/2022).ipynb",
      "provenance": [],
      "collapsed_sections": [],
      "authorship_tag": "ABX9TyPV8/V//46xgyJxI+W9k+3D",
      "include_colab_link": true
    },
    "kernelspec": {
      "name": "python3",
      "display_name": "Python 3"
    },
    "language_info": {
      "name": "python"
    }
  },
  "cells": [
    {
      "cell_type": "markdown",
      "metadata": {
        "id": "view-in-github",
        "colab_type": "text"
      },
      "source": [
        "<a href=\"https://colab.research.google.com/github/EmeryWong98/Ever-Up/blob/main/Assignment_Unit_2-L3(7122022).ipynb\" target=\"_parent\"><img src=\"https://colab.research.google.com/assets/colab-badge.svg\" alt=\"Open In Colab\"/></a>"
      ]
    },
    {
      "cell_type": "markdown",
      "source": [
        "# **Assignment Unit 2-L3(7/12/2022)**"
      ],
      "metadata": {
        "id": "PHI7Dk5L3Jf4"
      }
    },
    {
      "cell_type": "code",
      "source": [
        "#Q1 Create a list of 5 of your favorite tv shows.\n",
        "tv_shows = ['The Boys', 'The Umbrella Academy', 'Euphoria', 'Sex Education', 'Stranger Things']"
      ],
      "metadata": {
        "id": "4lv93_9O3UNz"
      },
      "execution_count": null,
      "outputs": []
    },
    {
      "cell_type": "code",
      "source": [
        "#Q2 Print the list in its original order.\n",
        "for i in range(5):\n",
        "  print(tv_shows[i])"
      ],
      "metadata": {
        "colab": {
          "base_uri": "https://localhost:8080/"
        },
        "id": "AmFpVyLn4KRH",
        "outputId": "5987fd92-30db-4064-95fe-10a26ff37b37"
      },
      "execution_count": null,
      "outputs": [
        {
          "output_type": "stream",
          "name": "stdout",
          "text": [
            "The Boys\n",
            "The Umbrella Academy\n",
            "Euphoria\n",
            "Sex Education\n",
            "Stranger Things\n"
          ]
        }
      ]
    },
    {
      "cell_type": "code",
      "source": [
        "#Q3 Use the sorted() function to print the list in alphabetical order. How is sorted() different from sort()?\n",
        "print('Use the sorted() function to print the list in alphabetical order')\n",
        "print(sorted(tv_shows))\n",
        "print('')\n",
        "print('How is sorted() different from sort()?')\n",
        "print('Sort() will change the order of the original list, which sorted() not. Sorted() more like temporarily sort a list for a preview.')"
      ],
      "metadata": {
        "colab": {
          "base_uri": "https://localhost:8080/"
        },
        "id": "Sm56K9UA4aBL",
        "outputId": "7ff94268-471c-4fab-a83d-f858d970a67f"
      },
      "execution_count": null,
      "outputs": [
        {
          "output_type": "stream",
          "name": "stdout",
          "text": [
            "Use the sorted() function to print the list in alphabetical order\n",
            "['Euphoria', 'Sex Education', 'Stranger Things', 'The Boys', 'The Umbrella Academy']\n",
            "\n",
            "How is sorted() different from sort()?\n",
            "Sort() will change the order of the original list, which sorted() not. Sorted() more like temporarily sort a list for a preview.\n"
          ]
        }
      ]
    },
    {
      "cell_type": "code",
      "source": [
        "#Q4 Print out your original list.\n",
        "print(tv_shows)"
      ],
      "metadata": {
        "colab": {
          "base_uri": "https://localhost:8080/"
        },
        "id": "EtTXYfC95YaC",
        "outputId": "18c217a8-ac50-4e68-a5aa-eb19d982b800"
      },
      "execution_count": null,
      "outputs": [
        {
          "output_type": "stream",
          "name": "stdout",
          "text": [
            "['The Boys', 'The Umbrella Academy', 'Euphoria', 'Sex Education', 'Stranger Things']\n"
          ]
        }
      ]
    },
    {
      "cell_type": "code",
      "source": [
        "#Q5 Used sorted() to print your list in reverse alphabetical order.\n",
        "print(sorted(tv_shows, reverse = True))"
      ],
      "metadata": {
        "colab": {
          "base_uri": "https://localhost:8080/"
        },
        "id": "sjgZm-9LBGFG",
        "outputId": "16096599-7b9d-42e5-cfb4-4bdc1432039d"
      },
      "execution_count": null,
      "outputs": [
        {
          "output_type": "stream",
          "name": "stdout",
          "text": [
            "['The Umbrella Academy', 'The Boys', 'Stranger Things', 'Sex Education', 'Euphoria']\n"
          ]
        }
      ]
    },
    {
      "cell_type": "code",
      "source": [
        "#Q6 Create a message indicating how many favorite TV shows you have – use the len() function.\n",
        "print(len(tv_shows))"
      ],
      "metadata": {
        "colab": {
          "base_uri": "https://localhost:8080/"
        },
        "id": "qvS3VVnkB1Sf",
        "outputId": "37c396fe-4261-4615-84f4-0a9c8d1ce0dd"
      },
      "execution_count": null,
      "outputs": [
        {
          "output_type": "stream",
          "name": "stdout",
          "text": [
            "5\n"
          ]
        }
      ]
    }
  ]
}